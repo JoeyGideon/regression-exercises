{
 "cells": [
  {
   "cell_type": "code",
   "execution_count": 1,
   "metadata": {},
   "outputs": [],
   "source": [
    "import pandas as pd\n",
    "from sklearn.linear_model import LinearRegression\n",
    "import matplotlib.pyplot as plt\n",
    "import pandas as pd\n",
    "from env import host, username, password\n",
    "import prepare\n",
    "import wrangle\n",
    "import warnings\n",
    "warnings.filterwarnings(\"ignore\")\n",
    "import numpy as np\n",
    "import matplotlib.pyplot as plt\n",
    "import seaborn as sns\n",
    "from sklearn.model_selection import train_test_split\n",
    "from scipy.stats import pearsonr, spearmanr\n",
    "import explore\n",
    "%matplotlib inline\n",
    "from sklearn.preprocessing import MinMaxScaler\n",
    "from sklearn.impute import SimpleImputer\n",
    "df = pd.read_csv('zillow_data.csv')"
   ]
  },
  {
   "cell_type": "code",
   "execution_count": 2,
   "metadata": {},
   "outputs": [],
   "source": [
    "prep_df = wrangle.prep_zillow(df)"
   ]
  },
  {
   "cell_type": "code",
   "execution_count": 3,
   "metadata": {},
   "outputs": [],
   "source": [
    "train, validate, test = wrangle.split_data(prep_df)"
   ]
  },
  {
   "cell_type": "code",
   "execution_count": 4,
   "metadata": {},
   "outputs": [],
   "source": [
    "scaled_train = wrangle.min_max_scaler(train)"
   ]
  },
  {
   "cell_type": "code",
   "execution_count": 5,
   "metadata": {},
   "outputs": [
    {
     "data": {
      "image/png": "[encoded data removed]",
      "text/plain": [
       "<Figure size 640x480 with 1 Axes>"
      ]
     },
     "metadata": {},
     "output_type": "display_data"
    }
   ],
   "source": [
    "# Fit a linear regression model (ordinary least squares) and compute that,\n",
    "# predictions of taxvaluedollarcnt using only calculatedfinishedsqft.\n",
    "\n",
    "X = scaled_train['calculatedfinishedsquarefeet'].values.reshape(-1, 1)\n",
    "y = scaled_train['taxvaluedollarcnt'].values.reshape(-1, 1)\n",
    "\n",
    "model = LinearRegression().fit(X, y)\n",
    "predictions = model.predict(X)\n",
    "\n",
    "residuals = y - predictions\n",
    "plt.scatter(predictions, residuals)\n",
    "plt.xlabel('Predicted Values')\n",
    "plt.ylabel('Residuals')\n",
    "plt.title('Residual Plot')\n",
    "plt.show()"
   ]
  },
  {
   "cell_type": "code",
   "execution_count": 6,
   "metadata": {},
   "outputs": [
    {
     "name": "stdout",
     "output_type": "stream",
     "text": [
      "SSE: 60.13552571331696\n",
      "ESS: 13.963024073141998\n",
      "TSS: 74.09854978645896\n",
      "MSE: 4.68293791050336e-05\n",
      "RMSE: 0.006843199478682001\n"
     ]
    }
   ],
   "source": [
    "# Calculate the sum of squared errors,\n",
    "# explained sum of squares, total sum of squares, mean squared error, and root mean squared error for your model.\n",
    "\n",
    "SSE = np.sum((y - predictions)**2)\n",
    "ESS = np.sum((predictions - np.mean(y))**2)\n",
    "TSS = SSE + ESS\n",
    "MSE = SSE / len(predictions)\n",
    "RMSE = np.sqrt(MSE)\n",
    "# print\n",
    "print(\"SSE:\", SSE)\n",
    "print(\"ESS:\", ESS)\n",
    "print(\"TSS:\", TSS)\n",
    "print(\"MSE:\", MSE)\n",
    "print(\"RMSE:\", RMSE)"
   ]
  },
  {
   "cell_type": "code",
   "execution_count": 7,
   "metadata": {},
   "outputs": [
    {
     "name": "stdout",
     "output_type": "stream",
     "text": [
      "Baseline SSE: 74.09854978645886\n",
      "Baseline MSE: 5.770281440002216e-05\n",
      "Baseline RMSE: 0.0075962368578146745\n"
     ]
    }
   ],
   "source": [
    "# Calculate the sum of squared errors, mean squared error, and root mean squared error\n",
    "# for the baseline model (i.e. a model that always predicts the average taxvaluedollarcnt amount).\n",
    "\n",
    "# assuming zillow_data and y are already defined\n",
    "baseline_predictions = np.full_like(y, np.mean(y))\n",
    "baseline_SSE = np.sum((y - baseline_predictions)**2)\n",
    "baseline_MSE = baseline_SSE / len(y)\n",
    "baseline_RMSE = np.sqrt(baseline_MSE)\n",
    "\n",
    "print(\"Baseline SSE:\", baseline_SSE)\n",
    "print(\"Baseline MSE:\", baseline_MSE)\n",
    "print(\"Baseline RMSE:\", baseline_RMSE)"
   ]
  },
  {
   "cell_type": "code",
   "execution_count": 8,
   "metadata": {},
   "outputs": [
    {
     "name": "stdout",
     "output_type": "stream",
     "text": [
      "The linear regression model performs better than the baseline model.\n"
     ]
    }
   ],
   "source": [
    "# Write python code that compares the sum of squared errors for your model against the sum of\n",
    "# squared errors for the baseline model and outputs whether or not your model performs better\n",
    "# than the baseline model.\n",
    "\n",
    "\n",
    "model_SSE = np.sum((y - model.predict(X))**2)\n",
    "\n",
    "if model_SSE < baseline_SSE:\n",
    "    print(\"The linear regression model performs better than the baseline model.\")\n",
    "else:\n",
    "    print(\"The baseline model performs better than the linear regression model.\")\n",
    "\n"
   ]
  },
  {
   "cell_type": "code",
   "execution_count": 9,
   "metadata": {},
   "outputs": [
    {
     "name": "stdout",
     "output_type": "stream",
     "text": [
      "R-squared: 0.18843856071922171\n"
     ]
    }
   ],
   "source": [
    "# What is the amount of variance explained in your model?\n",
    "\n",
    "model.fit(X, y)  # fit the model\n",
    "r_squared = model.score(X, y)\n",
    "\n",
    "print(\"R-squared:\", r_squared)"
   ]
  },
  {
   "cell_type": "code",
   "execution_count": 10,
   "metadata": {},
   "outputs": [],
   "source": [
    "# Is your model better than the baseline model?\n",
    "# yes, the SSE for the model is lower than the SSE for the baseline, \n",
    "# it indicates that the model performs better than the baseline."
   ]
  }
 ],
 "metadata": {
  "kernelspec": {
   "display_name": "base",
   "language": "python",
   "name": "python3"
  },
  "language_info": {
   "codemirror_mode": {
    "name": "ipython",
    "version": 3
   },
   "file_extension": ".py",
   "mimetype": "text/x-python",
   "name": "python",
   "nbconvert_exporter": "python",
   "pygments_lexer": "ipython3",
   "version": "3.9.13"
  },
  "orig_nbformat": 4
 },
 "nbformat": 4,
 "nbformat_minor": 2
}
